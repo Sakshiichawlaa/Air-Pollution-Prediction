{
 "cells": [
  {
   "cell_type": "code",
   "execution_count": 7,
   "metadata": {},
   "outputs": [
    {
     "name": "stdout",
     "output_type": "stream",
     "text": [
      "Date\n",
      "Jan-09    1.12\n",
      "Jan-09    2.63\n",
      "Jan-09    1.54\n",
      "Jan-09    2.26\n",
      "Jan-09    1.21\n",
      "Jan-09    1.00\n",
      "Jan-09    1.00\n",
      "Jan-09    1.12\n",
      "Jan-09    1.00\n",
      "Jan-09    1.38\n",
      "Jan-09    1.00\n",
      "Jan-09    1.00\n",
      "Jan-09    1.00\n",
      "Jan-09    3.30\n",
      "Jan-09    3.79\n",
      "Jan-09    4.25\n",
      "Jan-09    1.72\n",
      "Jan-09    1.87\n",
      "Jan-09    1.00\n",
      "Jan-09    6.35\n",
      "Name: NO, dtype: float64\n"
     ]
    },
    {
     "data": {
      "image/png": "[encoded data removed]",
      "text/plain": [
       "<matplotlib.figure.Figure at 0xca0ec50>"
      ]
     },
     "metadata": {},
     "output_type": "display_data"
    }
   ],
   "source": [
    "from sklearn import metrics\n",
    "# line plot of time series\n",
    "from pandas import Series\n",
    "from matplotlib import pyplot\n",
    "# load dataset\n",
    "series = Series.from_csv(\"C:/Users/hp/Desktop/NOData.csv\",encoding = \"ISO-8859-1\", header=0)\n",
    "# display first few rows\n",
    "print(series.head(20))\n",
    "# line plot of dataset\n",
    "series.plot()\n",
    "pyplot.show()\n"
   ]
  },
  {
   "cell_type": "code",
   "execution_count": 8,
   "metadata": {},
   "outputs": [
    {
     "name": "stdout",
     "output_type": "stream",
     "text": [
      "Dataset 3653, Validation 7\n"
     ]
    }
   ],
   "source": [
    "\n",
    "# split the dataset\n",
    "from pandas import Series\n",
    "series = Series.from_csv(\"C:/Users/hp/Desktop/NOData.csv\",encoding = \"ISO-8859-1\", header=0)\n",
    "split_point = len(series) - 7\n",
    "dataset, validation = series[0:split_point], series[split_point:]\n",
    "print('Dataset %d, Validation %d' % (len(dataset), len(validation)))\n",
    "dataset.to_csv('dataset.csv')\n",
    "validation.to_csv('validation.csv')"
   ]
  },
  {
   "cell_type": "code",
   "execution_count": 9,
   "metadata": {
    "collapsed": true
   },
   "outputs": [],
   "source": [
    "\n",
    "# create a differenced series\n",
    "def difference(dataset, interval=1):\n",
    "\tdiff = list()\n",
    "\tfor i in range(interval, len(dataset)):\n",
    "\t\tvalue = dataset[i] - dataset[i - interval]\n",
    "\t\tdiff.append(value)\n",
    "\treturn numpy.array(diff)"
   ]
  },
  {
   "cell_type": "code",
   "execution_count": 10,
   "metadata": {
    "collapsed": true
   },
   "outputs": [],
   "source": [
    "\n",
    "# invert differenced value\n",
    "def inverse_difference(history, yhat, interval=1):\n",
    "\treturn yhat + history[-interval]"
   ]
  },
  {
   "cell_type": "code",
   "execution_count": 11,
   "metadata": {},
   "outputs": [
    {
     "name": "stdout",
     "output_type": "stream",
     "text": [
      "                              ARMA Model Results                              \n",
      "==============================================================================\n",
      "Dep. Variable:                      y   No. Observations:                 3288\n",
      "Model:                     ARMA(7, 1)   Log Likelihood              -15883.833\n",
      "Method:                       css-mle   S.D. of innovations             30.320\n",
      "Date:                Sun, 05 May 2019   AIC                          31787.666\n",
      "Time:                        16:17:29   BIC                          31848.646\n",
      "Sample:                             0   HQIC                         31809.498\n",
      "                                                                              \n",
      "==============================================================================\n",
      "                 coef    std err          z      P>|z|      [0.025      0.975]\n",
      "------------------------------------------------------------------------------\n",
      "const          0.2955      3.145      0.094      0.925      -5.868       6.459\n",
      "ar.L1.y        1.4190      0.024     59.591      0.000       1.372       1.466\n",
      "ar.L2.y       -0.3573      0.031    -11.481      0.000      -0.418      -0.296\n",
      "ar.L3.y       -0.0794      0.031     -2.575      0.010      -0.140      -0.019\n",
      "ar.L4.y        0.0208      0.031      0.676      0.499      -0.040       0.081\n",
      "ar.L5.y        0.0583      0.031      1.892      0.059      -0.002       0.119\n",
      "ar.L6.y       -0.1290      0.030     -4.275      0.000      -0.188      -0.070\n",
      "ar.L7.y        0.0572      0.018      3.210      0.001       0.022       0.092\n",
      "ma.L1.y       -0.9373      0.017    -56.778      0.000      -0.970      -0.905\n",
      "                                    Roots                                    \n",
      "=============================================================================\n",
      "                 Real           Imaginary           Modulus         Frequency\n",
      "-----------------------------------------------------------------------------\n",
      "AR.1           -1.3271           -0.8660j            1.5847           -0.4080\n",
      "AR.2           -1.3271           +0.8660j            1.5847            0.4080\n",
      "AR.3            0.3736           -1.5790j            1.6226           -0.2130\n",
      "AR.4            0.3736           +1.5790j            1.6226            0.2130\n",
      "AR.5            1.0231           -0.0000j            1.0231           -0.0000\n",
      "AR.6            1.5701           -0.3464j            1.6078           -0.0346\n",
      "AR.7            1.5701           +0.3464j            1.6078            0.0346\n",
      "MA.1            1.0668           +0.0000j            1.0668            0.0000\n",
      "-----------------------------------------------------------------------------\n"
     ]
    }
   ],
   "source": [
    "\n",
    "from pandas import Series\n",
    "from statsmodels.tsa.arima_model import ARIMA\n",
    "import numpy\n",
    " \n",
    "# create a differenced series\n",
    "def difference(dataset, interval=1):\n",
    "\tdiff = list()\n",
    "\tfor i in range(interval, len(dataset)):\n",
    "\t\tvalue = dataset[i] - dataset[i - interval]\n",
    "\t\tdiff.append(value)\n",
    "\treturn numpy.array(diff)\n",
    " \n",
    "# load dataset\n",
    "series = Series.from_csv('dataset.csv', header=None)\n",
    "# seasonal difference\n",
    "X = series.values\n",
    "days_in_year = 365\n",
    "differenced = difference(X, days_in_year)\n",
    "# fit model\n",
    "model = ARIMA(differenced, order=(7,0,1))\n",
    "model_fit = model.fit(disp=0)\n",
    "# print summary of fit model\n",
    "print(model_fit.summary())"
   ]
  },
  {
   "cell_type": "code",
   "execution_count": 12,
   "metadata": {
    "collapsed": true
   },
   "outputs": [],
   "source": [
    "\n",
    "# one-step out-of sample forecast\n",
    "forecast = model_fit.forecast()[0]"
   ]
  },
  {
   "cell_type": "code",
   "execution_count": 13,
   "metadata": {
    "collapsed": true
   },
   "outputs": [],
   "source": [
    "\n",
    "forecast = inverse_difference(X, forecast, days_in_year)"
   ]
  },
  {
   "cell_type": "code",
   "execution_count": 14,
   "metadata": {},
   "outputs": [
    {
     "name": "stdout",
     "output_type": "stream",
     "text": [
      "Forecast: 1.661901\n"
     ]
    }
   ],
   "source": [
    "\n",
    "\n",
    "from pandas import Series\n",
    "from statsmodels.tsa.arima_model import ARIMA\n",
    "import numpy\n",
    " \n",
    "# create a differenced series\n",
    "def difference(dataset, interval=1):\n",
    "\tdiff = list()\n",
    "\tfor i in range(interval, len(dataset)):\n",
    "\t\tvalue = dataset[i] - dataset[i - interval]\n",
    "\t\tdiff.append(value)\n",
    "\treturn numpy.array(diff)\n",
    " \n",
    "# invert differenced value\n",
    "def inverse_difference(history, yhat, interval=1):\n",
    "\treturn yhat + history[-interval]\n",
    " \n",
    "# load dataset\n",
    "series = Series.from_csv('dataset.csv', header=None)\n",
    "# seasonal difference\n",
    "X = series.values\n",
    "days_in_year = 365\n",
    "differenced = difference(X, days_in_year)\n",
    "# fit model\n",
    "model = ARIMA(differenced, order=(7,0,1))\n",
    "model_fit = model.fit(disp=0)\n",
    "# one-step out-of sample forecast\n",
    "forecast = model_fit.forecast()[0]\n",
    "# invert the differenced forecast to something usable\n",
    "forecast = inverse_difference(X, forecast, days_in_year)\n",
    "print('Forecast: %f' % forecast)"
   ]
  },
  {
   "cell_type": "code",
   "execution_count": 16,
   "metadata": {
    "collapsed": true
   },
   "outputs": [],
   "source": [
    "# next 3 days\n",
    "# multi-step out-of-sample forecast\n",
    "forecast = model_fit.forecast(steps=3)[0]"
   ]
  },
  {
   "cell_type": "code",
   "execution_count": 17,
   "metadata": {},
   "outputs": [
    {
     "name": "stdout",
     "output_type": "stream",
     "text": [
      "Day 1: 1.661901\n",
      "Day 2: -2.447841\n",
      "Day 3: 10.107236\n"
     ]
    }
   ],
   "source": [
    "\n",
    "# invert the differenced forecast to something usable\n",
    "history = [x for x in X]\n",
    "day = 1\n",
    "for yhat in forecast:\n",
    "\tinverted = inverse_difference(history, yhat, days_in_year)\n",
    "\tprint('Day %d: %f' % (day, inverted))\n",
    "\thistory.append(inverted)\n",
    "\tday += 1"
   ]
  },
  {
   "cell_type": "code",
   "execution_count": 20,
   "metadata": {},
   "outputs": [
    {
     "name": "stdout",
     "output_type": "stream",
     "text": [
      "Day 1: 1.662136\n",
      "Day 2: -2.447523\n",
      "Day 3: 10.107600\n",
      "Day 4: 8.181133\n",
      "Day 5: 10.759378\n",
      "Day 6: 13.226966\n",
      "Day 7: 5.228736\n"
     ]
    }
   ],
   "source": [
    "\n",
    "from pandas import Series\n",
    "from statsmodels.tsa.arima_model import ARIMA\n",
    "import numpy\n",
    " \n",
    "# create a differenced series\n",
    "def difference(dataset, interval=1):\n",
    "\tdiff = list()\n",
    "\tfor i in range(interval, len(dataset)):\n",
    "\t\tvalue = dataset[i] - dataset[i - interval]\n",
    "\t\tdiff.append(value)\n",
    "\treturn numpy.array(diff)\n",
    " \n",
    "# invert differenced value\n",
    "def inverse_difference(history, yhat, interval=1):\n",
    "\treturn yhat + history[-interval]\n",
    " \n",
    "# load dataset\n",
    "series = Series.from_csv('dataset.csv', header=None)\n",
    "# seasonal difference\n",
    "X = series.values\n",
    "days_in_year = 365\n",
    "differenced = difference(X, days_in_year)\n",
    "# fit model\n",
    "model = ARIMA(differenced, order=(7,0,1))\n",
    "model_fit = model.fit(disp=0)\n",
    "# multi-step out-of-sample forecast\n",
    "forecast = model_fit.forecast(steps=7)[0]\n",
    "# invert the differenced forecast to something usable\n",
    "history = [x for x in X]\n",
    "day = 1\n",
    "for yhat in forecast:\n",
    "\tinverted = inverse_difference(history, yhat, days_in_year)\n",
    "\tprint('Day %d: %f' % (day, inverted))\n",
    "\thistory.append(inverted)\n",
    "\tday += 1"
   ]
  },
  {
   "cell_type": "code",
   "execution_count": 21,
   "metadata": {
    "collapsed": true
   },
   "outputs": [],
   "source": [
    "\n",
    "# one-step out of sample forecast\n",
    "start_index = len(differenced)\n",
    "end_index = len(differenced)\n",
    "forecast = model_fit.predict(start=start_index, end=end_index)"
   ]
  },
  {
   "cell_type": "code",
   "execution_count": 23,
   "metadata": {},
   "outputs": [],
   "source": [
    "\n",
    "# multi-step out-of-sample forecast\n",
    "start_index = len(differenced)\n",
    "end_index = start_index + 6\n",
    "forecast = model_fit.predict(start=start_index, end=end_index)"
   ]
  },
  {
   "cell_type": "code",
   "execution_count": 24,
   "metadata": {},
   "outputs": [
    {
     "name": "stdout",
     "output_type": "stream",
     "text": [
      "Day 1: 1.661820\n",
      "Day 2: -2.447966\n",
      "Day 3: 10.107071\n",
      "Day 4: 8.180536\n",
      "Day 5: 10.758733\n",
      "Day 6: 13.226255\n",
      "Day 7: 5.227994\n"
     ]
    }
   ],
   "source": [
    "from statsmodels.tsa.arima_model import ARIMA\n",
    "import numpy\n",
    " \n",
    "# create a differenced series\n",
    "def difference(dataset, interval=1):\n",
    "\tdiff = list()\n",
    "\tfor i in range(interval, len(dataset)):\n",
    "\t\tvalue = dataset[i] - dataset[i - interval]\n",
    "\t\tdiff.append(value)\n",
    "\treturn numpy.array(diff)\n",
    " \n",
    "# invert differenced value\n",
    "def inverse_difference(history, yhat, interval=1):\n",
    "\treturn yhat + history[-interval]\n",
    " \n",
    "# load dataset\n",
    "series = Series.from_csv('dataset.csv', header=None)\n",
    "# seasonal difference\n",
    "X = series.values\n",
    "days_in_year = 365\n",
    "differenced = difference(X, days_in_year)\n",
    "# fit model\n",
    "model = ARIMA(differenced, order=(7,0,1))\n",
    "model_fit = model.fit(disp=0)\n",
    "# multi-step out-of-sample forecast\n",
    "start_index = len(differenced)\n",
    "end_index = start_index + 6\n",
    "forecast = model_fit.predict(start=start_index, end=end_index)\n",
    "# invert the differenced forecast to something usable\n",
    "history = [x for x in X]\n",
    "day = 1\n",
    "for yhat in forecast:\n",
    "\tinverted = inverse_difference(history, yhat, days_in_year)\n",
    "\tprint('Day %d: %f' % (day, inverted))\n",
    "\thistory.append(inverted)\n",
    "\tday += 1"
   ]
  },
  {
   "cell_type": "code",
   "execution_count": null,
   "metadata": {
    "collapsed": true
   },
   "outputs": [],
   "source": []
  },
  {
   "cell_type": "code",
   "execution_count": null,
   "metadata": {
    "collapsed": true
   },
   "outputs": [],
   "source": []
  }
 ],
 "metadata": {
  "kernelspec": {
   "display_name": "Python 3",
   "language": "python",
   "name": "python3"
  },
  "language_info": {
   "codemirror_mode": {
    "name": "ipython",
    "version": 3
   },
   "file_extension": ".py",
   "mimetype": "text/x-python",
   "name": "python",
   "nbconvert_exporter": "python",
   "pygments_lexer": "ipython3",
   "version": "3.8.3"
  }
 },
 "nbformat": 4,
 "nbformat_minor": 2
}
