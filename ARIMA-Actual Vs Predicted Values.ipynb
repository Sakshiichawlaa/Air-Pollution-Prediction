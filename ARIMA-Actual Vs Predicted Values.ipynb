{
 "cells": [
  {
   "cell_type": "code",
   "execution_count": 2,
   "metadata": {
    "collapsed": true
   },
   "outputs": [],
   "source": [
    "import pandas as pd\n",
    "import numpy as np\n",
    "from pandas import read_csv\n",
    "from matplotlib import pyplot\n",
    "from statsmodels.tsa.arima_model import ARIMA\n",
    "#from sklearn.metrics import MeanSquaredError\n",
    "\n"
   ]
  },
  {
   "cell_type": "code",
   "execution_count": null,
   "metadata": {},
   "outputs": [
    {
     "name": "stdout",
     "output_type": "stream",
     "text": [
      "Actual=0.066500, Predicted=0.071417\n",
      "Actual=0.069400, Predicted=0.077690\n",
      "Actual=0.087300, Predicted=0.073152\n",
      "Actual=0.082000, Predicted=0.084646\n",
      "Actual=0.131000, Predicted=0.073664\n",
      "Actual=0.248000, Predicted=0.127910\n",
      "Actual=0.227000, Predicted=0.215323\n",
      "Actual=0.219000, Predicted=0.169736\n",
      "Actual=0.288000, Predicted=0.222362\n",
      "Actual=0.194000, Predicted=0.288926\n",
      "Actual=0.225000, Predicted=0.170923\n",
      "Actual=0.301000, Predicted=0.263462\n",
      "Actual=0.206000, Predicted=0.287273\n",
      "Actual=0.144000, Predicted=0.177347\n",
      "Actual=0.106000, Predicted=0.191351\n",
      "Actual=0.038900, Predicted=0.146076\n",
      "Actual=0.020500, Predicted=0.066278\n",
      "Actual=0.142000, Predicted=0.055724\n",
      "Actual=0.193000, Predicted=0.145020\n",
      "Actual=0.263000, Predicted=0.132649\n",
      "Actual=0.299000, Predicted=0.227646\n",
      "Actual=0.339000, Predicted=0.262560\n",
      "Actual=0.420000, Predicted=0.317928\n",
      "Actual=0.377000, Predicted=0.397122\n",
      "Actual=0.374000, Predicted=0.342643\n",
      "Actual=0.291000, Predicted=0.392664\n",
      "Actual=0.102000, Predicted=0.301722\n",
      "Actual=0.044100, Predicted=0.150928\n",
      "Actual=0.193000, Predicted=0.135017\n",
      "Actual=0.302000, Predicted=0.220506\n",
      "Actual=0.306000, Predicted=0.232470\n",
      "Actual=0.362000, Predicted=0.251211\n",
      "Actual=0.296000, Predicted=0.356612\n",
      "Actual=0.242000, Predicted=0.274582\n",
      "Actual=0.283000, Predicted=0.272910\n",
      "Actual=0.227000, Predicted=0.309746\n",
      "Actual=0.342000, Predicted=0.213512\n",
      "Actual=0.337000, Predicted=0.362182\n",
      "Actual=0.831000, Predicted=0.289819\n",
      "Actual=1.000000, Predicted=0.804172\n",
      "Actual=0.359000, Predicted=0.799070\n",
      "Actual=0.239000, Predicted=0.277918\n",
      "Actual=0.248000, Predicted=0.562457\n",
      "Actual=0.251000, Predicted=0.341750\n",
      "Actual=0.181000, Predicted=0.252654\n",
      "Actual=0.185000, Predicted=0.180822\n",
      "Actual=0.333000, Predicted=0.216019\n",
      "Actual=0.449000, Predicted=0.333601\n",
      "Actual=0.223000, Predicted=0.385740\n",
      "Actual=0.250000, Predicted=0.169536\n",
      "Actual=0.249000, Predicted=0.346542\n",
      "Actual=0.286000, Predicted=0.247660\n",
      "Actual=0.280000, Predicted=0.285656\n",
      "Actual=0.278000, Predicted=0.265336\n",
      "Actual=0.390000, Predicted=0.280229\n",
      "Actual=0.353000, Predicted=0.390473\n",
      "Actual=0.376000, Predicted=0.306915\n",
      "Actual=0.306000, Predicted=0.388224\n",
      "Actual=0.311000, Predicted=0.301227\n",
      "Actual=0.399000, Predicted=0.341358\n",
      "Actual=0.422000, Predicted=0.399682\n",
      "Actual=0.435000, Predicted=0.385071\n",
      "Actual=0.473000, Predicted=0.422572\n",
      "Actual=0.446000, Predicted=0.467660\n",
      "Actual=0.224000, Predicted=0.431876\n",
      "Actual=0.267000, Predicted=0.240222\n"
     ]
    }
   ],
   "source": [
    "#get data\n",
    "def GetData(fileName):\n",
    "    return read_csv(fileName, header=0, parse_dates=[0], index_col=0).values\n",
    "\n",
    "#Function that calls ARIMA model to fit and forecast the data\n",
    "def StartARIMAForecasting(Actual, P, D, Q):\n",
    "\tmodel = ARIMA(Actual, order=(P, D, Q))\n",
    "\tmodel_fit = model.fit(disp=0)\n",
    "\tprediction = model_fit.forecast()[0]\n",
    "\treturn prediction\n",
    "    \n",
    "#Get exchange rates\n",
    "ActualData = GetData(\"C:\\\\Users\\\\gautam vijh\\\\Desktop\\\\minor project\\\\dataset\\\\dwarka\\\\polludata2.csv\")\n",
    "#Size of exchange rates\n",
    "NumberOfElements = len(ActualData)\n",
    "\n",
    "#Use 70% of data as training, rest 30% to Test model\n",
    "TrainingSize = int(NumberOfElements * 0.7)\n",
    "TrainingData = ActualData[0:TrainingSize]\n",
    "TestData = ActualData[TrainingSize:NumberOfElements]\n",
    "\n",
    "#new arrays to store actual and predictions\n",
    "Actual = [x for x in TrainingData]\n",
    "Predictions = list()\n",
    "\n",
    "\n",
    "#in a for loop, predict values using ARIMA model\n",
    "for timepoint in range(len(TestData)):\n",
    "\tActualValue =  TestData[timepoint]\n",
    "\t#forcast value\n",
    "\tPrediction = StartARIMAForecasting(Actual, 3,1,0)    \n",
    "\tprint('Actual=%f, Predicted=%f' % (ActualValue, Prediction))\n",
    "\t#add it in the list\n",
    "\tPredictions.append(Prediction)\n",
    "\tActual.append(ActualValue)\n",
    "\n",
    "#Print MSE to see how good the model is\n",
    "from sklearn import metrics\n",
    "print(np.sqrt(metrics.mean_squared_error(TestData, Predictions)))\n",
    "print(metrics.mean_squared_error(TestData, Predictions))\n",
    "#Error = MeanSquaredError(TestData, Predictions)\n",
    "#print('Test Mean Squared Error (smaller the better fit): %.3f' % Error)\n",
    "# plot\n",
    "pyplot.plot(TestData)\n",
    "pyplot.plot(Predictions, color='red')\n",
    "pyplot.show()"
   ]
  },
  {
   "cell_type": "code",
   "execution_count": null,
   "metadata": {
    "collapsed": true
   },
   "outputs": [],
   "source": []
  },
  {
   "cell_type": "code",
   "execution_count": null,
   "metadata": {
    "collapsed": true
   },
   "outputs": [],
   "source": []
  },
  {
   "cell_type": "code",
   "execution_count": null,
   "metadata": {
    "collapsed": true
   },
   "outputs": [],
   "source": []
  }
 ],
 "metadata": {
  "kernelspec": {
   "display_name": "Python 3",
   "language": "python",
   "name": "python3"
  },
  "language_info": {
   "codemirror_mode": {
    "name": "ipython",
    "version": 3
   },
   "file_extension": ".py",
   "mimetype": "text/x-python",
   "name": "python",
   "nbconvert_exporter": "python",
   "pygments_lexer": "ipython3",
   "version": "3.8.3"
  }
 },
 "nbformat": 4,
 "nbformat_minor": 2
}
